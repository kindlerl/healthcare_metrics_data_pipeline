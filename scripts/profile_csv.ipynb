{
 "cells": [
  {
   "cell_type": "code",
   "execution_count": 10,
   "id": "15bd3133",
   "metadata": {},
   "outputs": [],
   "source": [
    "import os\n",
    "import shutil\n",
    "import pandas as pd\n"
   ]
  },
  {
   "cell_type": "code",
   "execution_count": 11,
   "id": "48f03f61",
   "metadata": {},
   "outputs": [],
   "source": [
    "# Setup folders and paths\n",
    "# Folder names\n",
    "# Assuming the current folder is the scripts folder which is\n",
    "# one level deep from the parent, project folder.\n",
    "current_directory = os.getcwd()\n",
    "project_path = os.path.dirname(current_directory)\n",
    "\n",
    "# print(project_path)\n",
    "\n",
    "raw_data_folder = \"rawdata\"  # folder name where all the raw csv files reside\n",
    "output_folder = \"profiling_reports\"  # folder name where all the profile reports will reside\n",
    "\n",
    "# Paths\n",
    "raw_path = os.path.join(project_path, raw_data_folder)\n",
    "profile_report_path = os.path.join(project_path, output_folder)\n",
    "# print(f\"Raw Path: {raw_path}\")\n",
    "# print(f\"Profile Path: {profile_report_path}\")\n",
    "\n",
    "# Create the output folder if it doesn't exist\n",
    "os.makedirs(profile_report_path, exist_ok=True)"
   ]
  },
  {
   "cell_type": "code",
   "execution_count": 12,
   "id": "19d4f6e1",
   "metadata": {},
   "outputs": [],
   "source": [
    "# Optional: skip primary file\n",
    "primary_file = \"PBJ_Daily_Nurse_Staffing_Q2_2024.csv\""
   ]
  },
  {
   "cell_type": "code",
   "execution_count": 13,
   "id": "9b33df90",
   "metadata": {
    "lines_to_next_cell": 2
   },
   "outputs": [
    {
     "name": "stdout",
     "output_type": "stream",
     "text": [
      "Processing: NH_Penalties_Oct2024.csv\n",
      "Processing: NH_SurveySummary_Oct2024.csv\n",
      "Processing: NH_SurveyDates_Oct2024.csv\n",
      "Processing: NH_CitationDescriptions_Oct2024.csv\n",
      "Processing: NH_HlthInspecCutpointsState_Oct2024.csv\n",
      "Processing: NH_FireSafetyCitations_Oct2024.csv\n",
      "Processing: NH_ProviderInfo_Oct2024.csv\n",
      "Processing: NH_Ownership_Oct2024.csv\n",
      "Processing: PBJ_Daily_Nurse_Staffing_Q2_2024.csv\n",
      "Processing: NH_StateUSAverages_Oct2024.csv\n",
      "Processing: NH_CovidVaxProvider_20241027.csv\n",
      "Processing: NH_QualityMsr_MDS_Oct2024.csv\n",
      "Processing: NH_HealthCitations_Oct2024.csv\n",
      "Processing: NH_DataCollectionIntervals_Oct2024.csv\n",
      "Processing: NH_QualityMsr_Claims_Oct2024.csv\n",
      "Processing: NH_CovidVaxAverages_20241027.csv\n"
     ]
    }
   ],
   "source": [
    "for filename in os.listdir(raw_path):\n",
    "    if (filename.startswith('NH') and filename.endswith(\".csv\")) or filename == primary_file:\n",
    "        filepath = os.path.join(raw_path, filename)\n",
    "        print(f\"Processing: {filename}\")\n",
    "\n",
    "        try:\n",
    "            df = pd.read_csv(filepath, encoding='ISO-8859-1', low_memory=False)  # Use encoding ISO-8859-1 since it's more broad\n",
    "\n",
    "            # Check for duplicate column names\n",
    "            duplicate_cols = df.columns[df.columns.duplicated()].tolist()\n",
    "\n",
    "            # Check for duplicate rows\n",
    "            duplicated_rows = df[df.duplicated()]\n",
    "            \n",
    "            # Build profiling string\n",
    "            report = []\n",
    "\n",
    "            report.append(f\"=== File: {filename} ===\")\n",
    "            report.append(f\"Shape: {df.shape}\")\n",
    "            report.append(\"\\n--- First 5 Rows ---\")\n",
    "            report.append(df.head(5).to_string(index=False))\n",
    "            report.append(\"\\n--- Column Info ---\")\n",
    "            report.append(df.dtypes.to_string())\n",
    "\n",
    "            report.append(\"\\n--- Duplicate Columns ---\")\n",
    "            if duplicate_cols:\n",
    "                report.append(f\"{duplicate_cols}\")\n",
    "            else:\n",
    "                report.append(\"None\")\n",
    "            \n",
    "            report.append(\"\\n--- Duplicate Rows ---\")\n",
    "            if duplicated_rows.shape[0] > 0:\n",
    "                report.append(f\"{duplicated_rows.shape[0]} duplicate rows\\n\")\n",
    "                report.append(f\"{duplicated_rows.head(5).to_string(index=False)}\")\n",
    "            else:\n",
    "                report.append(\"None\")\n",
    "            \n",
    "            report.append(\"\\n--- Missing Values ---\")\n",
    "            report.append(df.isnull().sum().to_string())\n",
    "            report.append(\"\\n--- Describe (transposed) ---\")\n",
    "            report.append(df.describe(include='all').T.to_string())\n",
    "\n",
    "            # Save to text file\n",
    "            output_path = os.path.join(profile_report_path, filename.replace(\".csv\", \"_profile.txt\"))\n",
    "            with open(output_path, \"w\", encoding='utf-8') as f:\n",
    "                f.write(\"\\n\\n\".join(report))\n",
    "\n",
    "        except Exception as e:\n",
    "            print(f\"Error reading {filename}: {e}\")"
   ]
  },
  {
   "cell_type": "code",
   "execution_count": null,
   "id": "a7b75bf7-5696-4a2a-96eb-21174b2f75c8",
   "metadata": {},
   "outputs": [],
   "source": []
  }
 ],
 "metadata": {
  "jupytext": {
   "cell_metadata_filter": "-all",
   "main_language": "python",
   "notebook_metadata_filter": "-all"
  },
  "kernelspec": {
   "display_name": "Python 3 (ipykernel)",
   "language": "python",
   "name": "python3"
  },
  "language_info": {
   "codemirror_mode": {
    "name": "ipython",
    "version": 3
   },
   "file_extension": ".py",
   "mimetype": "text/x-python",
   "name": "python",
   "nbconvert_exporter": "python",
   "pygments_lexer": "ipython3",
   "version": "3.13.2"
  }
 },
 "nbformat": 4,
 "nbformat_minor": 5
}
