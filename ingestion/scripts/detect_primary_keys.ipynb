{
 "cells": [
  {
   "cell_type": "code",
   "execution_count": 1,
   "id": "0c6a3099",
   "metadata": {},
   "outputs": [],
   "source": [
    "import os\n",
    "import re"
   ]
  },
  {
   "cell_type": "code",
   "execution_count": 2,
   "id": "765ea642-2143-49d7-b7da-01981c037206",
   "metadata": {},
   "outputs": [
    {
     "name": "stdout",
     "output_type": "stream",
     "text": [
      "Profile folder: /Users/richardkindle/Library/CloudStorage/GoogleDrive-eldnikr@gmail.com/My Drive/DE Academy/Projects/Healthcare/profiling_reports\n"
     ]
    }
   ],
   "source": [
    "# Assuming the current folder is the scripts folder which is\n",
    "# one level deep from the parent, project folder.\n",
    "current_directory = os.getcwd()\n",
    "project_path = os.path.dirname(current_directory)\n",
    "output_folder = \"profiling_reports\"  # folder name where all the profile reports reside\n",
    "\n",
    "# Paths\n",
    "profile_folder = os.path.join(project_path, output_folder)\n",
    "# print(f\"Profile folder: {profile_folder}\")\n",
    "key_summary = []"
   ]
  },
  {
   "cell_type": "code",
   "execution_count": 3,
   "id": "51d7306b",
   "metadata": {
    "lines_to_next_cell": 1
   },
   "outputs": [],
   "source": [
    "def parse_profile_file(filepath):\n",
    "    with open(filepath, 'r', encoding='utf-8') as f:\n",
    "        lines = f.readlines()\n",
    "\n",
    "    try:\n",
    "        start = lines.index('--- Describe (transposed) ---\\n') + 2\n",
    "    except ValueError:\n",
    "        return None\n",
    "\n",
    "    describe_lines = []\n",
    "    for line in lines[start:]:\n",
    "        if line.strip() == '':\n",
    "            break\n",
    "        describe_lines.append(line.rstrip('\\n'))\n",
    "\n",
    "    if len(describe_lines) < 2:\n",
    "        return None\n",
    "\n",
    "    header_line = describe_lines[0]\n",
    "    data_lines = describe_lines[1:]\n",
    "    max_lens = []\n",
    "\n",
    "    for line in data_lines:\n",
    "        cols = [col.strip() for col in line.split('  ') if col.strip()]\n",
    "        for idx, val in enumerate(cols):\n",
    "            if len(max_lens) <= idx:\n",
    "                max_lens.append(len(val))\n",
    "            else:\n",
    "                max_lens[idx] = max(max_lens[idx], len(val))\n",
    "\n",
    "    # for line in data_lines:\n",
    "    #     cols = line.split('  ')\n",
    "    #     # Get rid of empty cols\n",
    "    #     actual_cols = []\n",
    "    #     for col in cols:\n",
    "    #         if len(col) > 0:\n",
    "    #             actual_cols.append(col.strip())\n",
    "\n",
    "    #     for idx, actual_col in enumerate(actual_cols):\n",
    "            \n",
    "    #         if len(max_lens) <= idx:\n",
    "    #             max_lens.append(len(actual_col))\n",
    "    #         else:\n",
    "    #             col_len = len(actual_col)\n",
    "    #             max_len = max_lens[idx]\n",
    "    #             if col_len > max_len:\n",
    "    #                 max_lens[idx] = col_len\n",
    "\n",
    "    col_positions = [0]  # Initial value; column start position of zero\n",
    "    \n",
    "    # print(f\"max_lens: {max_lens}\")\n",
    "    \n",
    "    for idx, col_len in enumerate(max_lens):\n",
    "        # \n",
    "        # if idx < len(max_lens) - 1:\n",
    "        col_positions.append(col_len + col_positions[idx] + 2)\n",
    "\n",
    "    # print(f\"col_positions: {col_positions}\")\n",
    "    \n",
    "    # Step 3: Build headers\n",
    "    headers = ['column'] + re.split(r'\\s{1,}', header_line.strip())\n",
    "    # headers = ['column'] + [header_line[col_positions[i]:col_positions[i + 1]].strip()\n",
    "    #                         for i in range(1, len(col_positions) - 1)]\n",
    "    # print(f\"Headers: {headers}\")\n",
    "\n",
    "    results = []\n",
    "    for line in data_lines:\n",
    "        fields = [line[col_positions[i]:col_positions[i + 1]].strip()\n",
    "                  for i in range(0, len(col_positions) - 1)]\n",
    "        # print(f\"fields: {fields}\")\n",
    "        \n",
    "        if len(fields) != len(headers):\n",
    "            print(f\"MISMATCH: number of fields does not match number of headers\")\n",
    "            continue\n",
    "            \n",
    "        row = dict(zip(headers, fields))\n",
    "        # print(f\"row: {row}\")\n",
    "        \n",
    "        try:\n",
    "            count = float(row.get('count', '0').replace(',', ''))\n",
    "            unique = float(row.get('unique', '0').replace(',', ''))\n",
    "        except ValueError:\n",
    "            continue\n",
    "\n",
    "        col_name = row['column']\n",
    "        if count > 1 and count == unique:\n",
    "            results.append((col_name, '✅ Likely PK'))\n",
    "        elif count > 1 and unique / count >= 0.9:\n",
    "            results.append((col_name, '⚠️ High uniqueness'))\n",
    "\n",
    "    if not results:\n",
    "        print(f\"✅ Loaded: {os.path.basename(filepath)} — no candidate keys found\")\n",
    "\n",
    "    return results\n"
   ]
  },
  {
   "cell_type": "code",
   "execution_count": 4,
   "id": "a3da7c28-2ea0-4c4e-a539-ffd5c341b1b3",
   "metadata": {},
   "outputs": [
    {
     "name": "stdout",
     "output_type": "stream",
     "text": [
      "'['column', 'count', 'unique', 'top', 'freq', 'mean', 'std', 'min', '25%', '50%', '75%', 'max']'\n"
     ]
    }
   ],
   "source": [
    "# header_line = '                                            count unique                                                                 top    freq         mean           std    min       25%      50%      75%      max'\n",
    "# col_positions = [0, 41, 51, 58, 126, 134, 147, 161, 168, 178, 187, 196, 205]\n",
    "header_line = \"                              count unique                               top freq        mean          std  min    25%    50%    75%     max\"\n",
    "max_lens = [28, 5, 3, 32, 3, 10, 11, 3, 5, 5, 5, 6]\n",
    "col_positions = [0, 30, 37, 42, 76, 81, 93, 106, 111, 118, 125, 132, 140]\n",
    "\n",
    "i = 2\n",
    "# col = header_line[col_positions[i]:col_positions[i+1]-2]  #.strip()\n",
    "# col = header_line[col_positions[i-1] + max_lens[i]:col_positions[i] + max_lens[i]]\n",
    "header = ['column'] + re.split(r'\\s{1,}', header_line.strip())\n",
    "print(f\"'{header}'\")"
   ]
  },
  {
   "cell_type": "code",
   "execution_count": 5,
   "id": "0bc1bd50",
   "metadata": {},
   "outputs": [
    {
     "name": "stdout",
     "output_type": "stream",
     "text": [
      "\n",
      "Inspecting file: PBJ_Daily_Nurse_Staffing_Q2_2024_profile.txt\n",
      "✅ Loaded: PBJ_Daily_Nurse_Staffing_Q2_2024_profile.txt — no candidate keys found\n",
      "\n",
      "Inspecting file: NH_HealthCitations_Oct2024_profile.txt\n",
      "✅ Loaded: NH_HealthCitations_Oct2024_profile.txt — no candidate keys found\n",
      "\n",
      "Inspecting file: NH_CitationDescriptions_Oct2024_profile.txt\n",
      "\n",
      "Inspecting file: NH_HlthInspecCutpointsState_Oct2024_profile.txt\n",
      "✅ Loaded: NH_HlthInspecCutpointsState_Oct2024_profile.txt — no candidate keys found\n",
      "\n",
      "Inspecting file: NH_CovidVaxProvider_20241027_profile.txt\n",
      "\n",
      "Inspecting file: NH_ProviderInfo_Oct2024_profile.txt\n",
      "\n",
      "Inspecting file: NH_StateUSAverages_Oct2024_profile.txt\n",
      "\n",
      "Inspecting file: NH_CovidVaxAverages_20241027_profile.txt\n",
      "\n",
      "Inspecting file: NH_QualityMsr_MDS_Oct2024_profile.txt\n",
      "✅ Loaded: NH_QualityMsr_MDS_Oct2024_profile.txt — no candidate keys found\n",
      "\n",
      "Inspecting file: NH_DataCollectionIntervals_Oct2024_profile.txt\n",
      "\n",
      "Inspecting file: NH_FireSafetyCitations_Oct2024_profile.txt\n",
      "✅ Loaded: NH_FireSafetyCitations_Oct2024_profile.txt — no candidate keys found\n",
      "\n",
      "Inspecting file: NH_QualityMsr_Claims_Oct2024_profile.txt\n",
      "✅ Loaded: NH_QualityMsr_Claims_Oct2024_profile.txt — no candidate keys found\n",
      "\n",
      "Inspecting file: NH_SurveyDates_Oct2024_profile.txt\n",
      "✅ Loaded: NH_SurveyDates_Oct2024_profile.txt — no candidate keys found\n",
      "\n",
      "Inspecting file: NH_Ownership_Oct2024_profile.txt\n",
      "✅ Loaded: NH_Ownership_Oct2024_profile.txt — no candidate keys found\n",
      "\n",
      "Inspecting file: NH_Penalties_Oct2024_profile.txt\n",
      "✅ Loaded: NH_Penalties_Oct2024_profile.txt — no candidate keys found\n",
      "\n",
      "Inspecting file: NH_SurveySummary_Oct2024_profile.txt\n",
      "✅ Loaded: NH_SurveySummary_Oct2024_profile.txt — no candidate keys found\n"
     ]
    }
   ],
   "source": [
    "# Loop through all profile files\n",
    "primary_profile_file = \"PBJ_Daily_Nurse_Staffing_Q2_2024_profile.txt\"\n",
    "\n",
    "for file in os.listdir(profile_folder):\n",
    "    if (file.startswith('NH') and file.endswith('_profile.txt')) or file == primary_profile_file:\n",
    "        print(f\"\\nInspecting file: {file}\")\n",
    "        filepath = os.path.join(profile_folder, file)\n",
    "        candidates = parse_profile_file(filepath)\n",
    "        if candidates:\n",
    "            key_summary.append({\n",
    "                'file': file.replace('_profile.txt', ''),\n",
    "                'keys': [f\"{col} ({note})\" for col, note in candidates]\n",
    "            })"
   ]
  },
  {
   "cell_type": "code",
   "execution_count": 6,
   "id": "7a6f2c92",
   "metadata": {
    "lines_to_next_cell": 2
   },
   "outputs": [
    {
     "name": "stdout",
     "output_type": "stream",
     "text": [
      "\n",
      "=== Candidate Key Columns Summary ===\n",
      "\n",
      "NH_CitationDescriptions_Oct2024:\n",
      "  - Deficiency Prefix and Number (✅ Likely PK)\n",
      "  - Deficiency Description (⚠️ High uniqueness)\n",
      "\n",
      "NH_CovidVaxProvider_20241027:\n",
      "  - CMS Certification Number (CCN) (✅ Likely PK)\n",
      "\n",
      "NH_ProviderInfo_Oct2024:\n",
      "  - CMS Certification Number (CCN) (✅ Likely PK)\n",
      "  - Provider Name (⚠️ High uniqueness)\n",
      "  - Provider Address (⚠️ High uniqueness)\n",
      "  - Location (⚠️ High uniqueness)\n",
      "\n",
      "NH_StateUSAverages_Oct2024:\n",
      "  - State or Nation (✅ Likely PK)\n",
      "\n",
      "NH_CovidVaxAverages_20241027:\n",
      "  - State (✅ Likely PK)\n",
      "\n",
      "NH_DataCollectionIntervals_Oct2024:\n",
      "  - Measure Code (✅ Likely PK)\n",
      "  - Measure Description (✅ Likely PK)\n"
     ]
    }
   ],
   "source": [
    "# Output results\n",
    "print(\"\\n=== Candidate Key Columns Summary ===\")\n",
    "for entry in key_summary:\n",
    "    print(f\"\\n{entry['file']}:\")\n",
    "    for key in entry['keys']:\n",
    "        print(f\"  - {key}\")"
   ]
  },
  {
   "cell_type": "code",
   "execution_count": null,
   "id": "d343b7d7-c6c6-43b6-80e9-5749de85e763",
   "metadata": {},
   "outputs": [],
   "source": []
  }
 ],
 "metadata": {
  "jupytext": {
   "cell_metadata_filter": "-all",
   "main_language": "python",
   "notebook_metadata_filter": "-all"
  },
  "kernelspec": {
   "display_name": "Python 3 (ipykernel)",
   "language": "python",
   "name": "python3"
  },
  "language_info": {
   "codemirror_mode": {
    "name": "ipython",
    "version": 3
   },
   "file_extension": ".py",
   "mimetype": "text/x-python",
   "name": "python",
   "nbconvert_exporter": "python",
   "pygments_lexer": "ipython3",
   "version": "3.13.2"
  }
 },
 "nbformat": 4,
 "nbformat_minor": 5
}
